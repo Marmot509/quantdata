{
 "cells": [
  {
   "cell_type": "code",
   "execution_count": 4,
   "metadata": {},
   "outputs": [
    {
     "ename": "ImportError",
     "evalue": "IProgress not found. Please update jupyter and ipywidgets. See https://ipywidgets.readthedocs.io/en/stable/user_install.html",
     "output_type": "error",
     "traceback": [
      "\u001b[0;31m---------------------------------------------------------------------------\u001b[0m",
      "\u001b[0;31mImportError\u001b[0m                               Traceback (most recent call last)",
      "Cell \u001b[0;32mIn[4], line 2\u001b[0m\n\u001b[1;32m      1\u001b[0m \u001b[38;5;28;01mimport\u001b[39;00m \u001b[38;5;21;01makshare\u001b[39;00m\n\u001b[0;32m----> 2\u001b[0m testdata \u001b[38;5;241m=\u001b[39m \u001b[43makshare\u001b[49m\u001b[38;5;241;43m.\u001b[39;49m\u001b[43mstock_intraday_sina\u001b[49m\u001b[43m(\u001b[49m\u001b[43msymbol\u001b[49m\u001b[38;5;241;43m=\u001b[39;49m\u001b[38;5;124;43m\"\u001b[39;49m\u001b[38;5;124;43msz000001\u001b[39;49m\u001b[38;5;124;43m\"\u001b[39;49m\u001b[43m,\u001b[49m\u001b[43m \u001b[49m\u001b[43mdate\u001b[49m\u001b[38;5;241;43m=\u001b[39;49m\u001b[38;5;124;43m\"\u001b[39;49m\u001b[38;5;124;43m20231108\u001b[39;49m\u001b[38;5;124;43m\"\u001b[39;49m\u001b[43m)\u001b[49m\n\u001b[1;32m      3\u001b[0m \u001b[38;5;28mprint\u001b[39m(testdata)\n",
      "File \u001b[0;32m/Library/Frameworks/Python.framework/Versions/3.11/lib/python3.11/site-packages/akshare/stock/stock_intraday_sina.py:49\u001b[0m, in \u001b[0;36mstock_intraday_sina\u001b[0;34m(symbol, date)\u001b[0m\n\u001b[1;32m     47\u001b[0m big_df \u001b[38;5;241m=\u001b[39m pd\u001b[38;5;241m.\u001b[39mDataFrame()\n\u001b[1;32m     48\u001b[0m tqdm \u001b[38;5;241m=\u001b[39m get_tqdm()\n\u001b[0;32m---> 49\u001b[0m \u001b[38;5;28;01mfor\u001b[39;00m page \u001b[38;5;129;01min\u001b[39;00m \u001b[43mtqdm\u001b[49m\u001b[43m(\u001b[49m\u001b[38;5;28;43mrange\u001b[39;49m\u001b[43m(\u001b[49m\u001b[38;5;241;43m1\u001b[39;49m\u001b[43m,\u001b[49m\u001b[43m \u001b[49m\u001b[43mtotal_page\u001b[49m\u001b[43m \u001b[49m\u001b[38;5;241;43m+\u001b[39;49m\u001b[43m \u001b[49m\u001b[38;5;241;43m1\u001b[39;49m\u001b[43m)\u001b[49m\u001b[43m,\u001b[49m\u001b[43m \u001b[49m\u001b[43mleave\u001b[49m\u001b[38;5;241;43m=\u001b[39;49m\u001b[38;5;28;43;01mFalse\u001b[39;49;00m\u001b[43m)\u001b[49m:\n\u001b[1;32m     50\u001b[0m     params\u001b[38;5;241m.\u001b[39mupdate({\u001b[38;5;124m'\u001b[39m\u001b[38;5;124mpage\u001b[39m\u001b[38;5;124m'\u001b[39m: page})\n\u001b[1;32m     51\u001b[0m     r \u001b[38;5;241m=\u001b[39m requests\u001b[38;5;241m.\u001b[39mget(url\u001b[38;5;241m=\u001b[39murl, params\u001b[38;5;241m=\u001b[39mparams, headers\u001b[38;5;241m=\u001b[39mheaders)\n",
      "File \u001b[0;32m/Library/Frameworks/Python.framework/Versions/3.11/lib/python3.11/site-packages/tqdm/notebook.py:233\u001b[0m, in \u001b[0;36mtqdm_notebook.__init__\u001b[0;34m(self, *args, **kwargs)\u001b[0m\n\u001b[1;32m    231\u001b[0m unit_scale \u001b[38;5;241m=\u001b[39m \u001b[38;5;241m1\u001b[39m \u001b[38;5;28;01mif\u001b[39;00m \u001b[38;5;28mself\u001b[39m\u001b[38;5;241m.\u001b[39munit_scale \u001b[38;5;129;01mis\u001b[39;00m \u001b[38;5;28;01mTrue\u001b[39;00m \u001b[38;5;28;01melse\u001b[39;00m \u001b[38;5;28mself\u001b[39m\u001b[38;5;241m.\u001b[39munit_scale \u001b[38;5;129;01mor\u001b[39;00m \u001b[38;5;241m1\u001b[39m\n\u001b[1;32m    232\u001b[0m total \u001b[38;5;241m=\u001b[39m \u001b[38;5;28mself\u001b[39m\u001b[38;5;241m.\u001b[39mtotal \u001b[38;5;241m*\u001b[39m unit_scale \u001b[38;5;28;01mif\u001b[39;00m \u001b[38;5;28mself\u001b[39m\u001b[38;5;241m.\u001b[39mtotal \u001b[38;5;28;01melse\u001b[39;00m \u001b[38;5;28mself\u001b[39m\u001b[38;5;241m.\u001b[39mtotal\n\u001b[0;32m--> 233\u001b[0m \u001b[38;5;28mself\u001b[39m\u001b[38;5;241m.\u001b[39mcontainer \u001b[38;5;241m=\u001b[39m \u001b[38;5;28;43mself\u001b[39;49m\u001b[38;5;241;43m.\u001b[39;49m\u001b[43mstatus_printer\u001b[49m\u001b[43m(\u001b[49m\u001b[38;5;28;43mself\u001b[39;49m\u001b[38;5;241;43m.\u001b[39;49m\u001b[43mfp\u001b[49m\u001b[43m,\u001b[49m\u001b[43m \u001b[49m\u001b[43mtotal\u001b[49m\u001b[43m,\u001b[49m\u001b[43m \u001b[49m\u001b[38;5;28;43mself\u001b[39;49m\u001b[38;5;241;43m.\u001b[39;49m\u001b[43mdesc\u001b[49m\u001b[43m,\u001b[49m\u001b[43m \u001b[49m\u001b[38;5;28;43mself\u001b[39;49m\u001b[38;5;241;43m.\u001b[39;49m\u001b[43mncols\u001b[49m\u001b[43m)\u001b[49m\n\u001b[1;32m    234\u001b[0m \u001b[38;5;28mself\u001b[39m\u001b[38;5;241m.\u001b[39mcontainer\u001b[38;5;241m.\u001b[39mpbar \u001b[38;5;241m=\u001b[39m proxy(\u001b[38;5;28mself\u001b[39m)\n\u001b[1;32m    235\u001b[0m \u001b[38;5;28mself\u001b[39m\u001b[38;5;241m.\u001b[39mdisplayed \u001b[38;5;241m=\u001b[39m \u001b[38;5;28;01mFalse\u001b[39;00m\n",
      "File \u001b[0;32m/Library/Frameworks/Python.framework/Versions/3.11/lib/python3.11/site-packages/tqdm/notebook.py:108\u001b[0m, in \u001b[0;36mtqdm_notebook.status_printer\u001b[0;34m(_, total, desc, ncols)\u001b[0m\n\u001b[1;32m     99\u001b[0m \u001b[38;5;66;03m# Fallback to text bar if there's no total\u001b[39;00m\n\u001b[1;32m    100\u001b[0m \u001b[38;5;66;03m# DEPRECATED: replaced with an 'info' style bar\u001b[39;00m\n\u001b[1;32m    101\u001b[0m \u001b[38;5;66;03m# if not total:\u001b[39;00m\n\u001b[0;32m   (...)\u001b[0m\n\u001b[1;32m    105\u001b[0m \n\u001b[1;32m    106\u001b[0m \u001b[38;5;66;03m# Prepare IPython progress bar\u001b[39;00m\n\u001b[1;32m    107\u001b[0m \u001b[38;5;28;01mif\u001b[39;00m IProgress \u001b[38;5;129;01mis\u001b[39;00m \u001b[38;5;28;01mNone\u001b[39;00m:  \u001b[38;5;66;03m# #187 #451 #558 #872\u001b[39;00m\n\u001b[0;32m--> 108\u001b[0m     \u001b[38;5;28;01mraise\u001b[39;00m \u001b[38;5;167;01mImportError\u001b[39;00m(WARN_NOIPYW)\n\u001b[1;32m    109\u001b[0m \u001b[38;5;28;01mif\u001b[39;00m total:\n\u001b[1;32m    110\u001b[0m     pbar \u001b[38;5;241m=\u001b[39m IProgress(\u001b[38;5;28mmin\u001b[39m\u001b[38;5;241m=\u001b[39m\u001b[38;5;241m0\u001b[39m, \u001b[38;5;28mmax\u001b[39m\u001b[38;5;241m=\u001b[39mtotal)\n",
      "\u001b[0;31mImportError\u001b[0m: IProgress not found. Please update jupyter and ipywidgets. See https://ipywidgets.readthedocs.io/en/stable/user_install.html"
     ]
    }
   ],
   "source": [
    "import akshare\n",
    "testdata = akshare.stock_zh_a_minute(symbol='sh600751', period='1', adjust=\"qfq\")\n",
    "print(testdata)"
   ]
  },
  {
   "cell_type": "code",
   "execution_count": 2,
   "metadata": {},
   "outputs": [
    {
     "name": "stdout",
     "output_type": "stream",
     "text": [
      "          date  open  high   low  close      volume       amount  \\\n",
      "0   2020-01-02  2.95  2.99  2.94   2.97  36871604.0  109486236.0   \n",
      "1   2020-01-03  2.98  3.02  2.95   3.00  27818004.0   82999342.0   \n",
      "2   2020-01-06  2.97  3.02  2.95   3.02  33257784.0   99700380.0   \n",
      "3   2020-01-07  3.02  3.07  3.00   3.06  37977145.0  115346273.0   \n",
      "4   2020-01-08  3.04  3.05  2.98   3.00  31095373.0   93753675.0   \n",
      "5   2020-01-09  3.01  3.05  3.01   3.03  24666225.0   74623391.0   \n",
      "6   2020-01-10  3.03  3.05  2.99   3.01  22650900.0   68354381.0   \n",
      "7   2020-01-13  3.00  3.02  2.96   3.02  22747101.0   68041901.0   \n",
      "8   2020-01-14  3.02  3.04  2.99   3.00  30327650.0   91476304.0   \n",
      "9   2020-01-15  3.00  3.00  2.94   2.95  25401675.0   75167452.0   \n",
      "10  2020-01-16  2.97  2.98  2.92   2.93  24142513.0   71073718.0   \n",
      "11  2020-01-17  2.93  2.95  2.88   2.89  23314487.0   67963883.0   \n",
      "12  2020-01-20  2.88  2.92  2.84   2.91  22584233.0   65234809.0   \n",
      "13  2020-01-21  2.89  2.90  2.85   2.86  19968404.0   57228468.0   \n",
      "14  2020-01-22  2.85  2.89  2.80   2.88  22055335.0   62672290.0   \n",
      "15  2020-01-23  2.90  3.01  2.87   2.93  59113735.0  173828551.0   \n",
      "\n",
      "    outstanding_share  turnover  \n",
      "0        2.573189e+09  0.014329  \n",
      "1        2.573189e+09  0.010811  \n",
      "2        2.573189e+09  0.012925  \n",
      "3        2.573189e+09  0.014759  \n",
      "4        2.573189e+09  0.012084  \n",
      "5        2.573189e+09  0.009586  \n",
      "6        2.573189e+09  0.008803  \n",
      "7        2.573189e+09  0.008840  \n",
      "8        2.573189e+09  0.011786  \n",
      "9        2.573189e+09  0.009872  \n",
      "10       2.573189e+09  0.009382  \n",
      "11       2.573189e+09  0.009061  \n",
      "12       2.573189e+09  0.008777  \n",
      "13       2.573189e+09  0.007760  \n",
      "14       2.573189e+09  0.008571  \n",
      "15       2.573189e+09  0.022973  \n"
     ]
    }
   ],
   "source": [
    "testdata2 = akshare.stock_zh_a_daily(symbol='sh600751', start_date='20200101', end_date='20200131', adjust=\"qfq\")  \n",
    "print(testdata2)"
   ]
  },
  {
   "cell_type": "code",
   "execution_count": 5,
   "metadata": {},
   "outputs": [
    {
     "name": "stdout",
     "output_type": "stream",
     "text": [
      "         date            qfq_factor\n",
      "0  2023-08-25    1.0000000000000000\n",
      "1  2022-08-25    1.0517754291451000\n",
      "2  2021-08-25    1.1168798473057000\n",
      "3  2020-08-14    1.1810093745970000\n",
      "4  2019-08-15    1.2245366427798000\n",
      "5  2018-08-23    1.2735981991808000\n",
      "6  2017-08-29    1.3233913520593000\n",
      "7  2016-07-29    1.3684162947004000\n",
      "8  2015-07-21    1.4256988372693000\n",
      "9  2014-05-08    1.4737021651235000\n",
      "10 2013-05-16    1.5546965200431000\n",
      "11 2012-07-05    1.5798398599899000\n",
      "12 2011-05-27    1.6027105929296000\n",
      "13 2010-05-18    1.6232581646338000\n",
      "14 2009-06-08    1.6398462042724000\n",
      "15 2008-06-16    1.6475522484654000\n",
      "16 2007-05-16    2.6521572780175000\n",
      "17 2006-07-21    4.0043855834397000\n",
      "18 2005-06-29    4.1056769557021000\n",
      "19 2004-05-26    6.3462750504298000\n",
      "20 2003-05-23    9.5848830885446000\n",
      "21 2002-07-17   19.4514673699928000\n",
      "22 2001-08-21   19.7687833140383020\n",
      "23 2000-08-17   20.0160648287379000\n",
      "24 2000-01-10   20.2241320306998030\n",
      "25 1999-08-06   21.7007260053956000\n",
      "26 1998-07-10   24.0549868667835000\n",
      "27 1997-07-14   26.7769985385511000\n",
      "28 1997-06-27   31.2296603923877000\n",
      "29 1996-08-06   36.0689784010141000\n",
      "30 1995-07-04   40.3371408451341000\n",
      "31 1994-06-21   47.9136235499274000\n",
      "32 1993-04-05   65.9178076663026900\n",
      "33 1992-03-30   99.0712868582592000\n",
      "34 1991-06-10  118.8855442299110900\n",
      "35 1991-01-29  169.1453113717332000\n",
      "36 1900-01-01  169.1453113717332000\n"
     ]
    }
   ],
   "source": [
    "import akshare as ak\n",
    "\n",
    "qfq_factor_df = ak.stock_zh_a_daily(symbol=\"sz000002\", adjust=\"qfq-factor\")\n",
    "print(qfq_factor_df)"
   ]
  },
  {
   "cell_type": "code",
   "execution_count": 6,
   "metadata": {},
   "outputs": [
    {
     "name": "stdout",
     "output_type": "stream",
     "text": [
      "    序号        品种\n",
      "0    1   Au99.99\n",
      "1    2   Au99.95\n",
      "2    3    Au100g\n",
      "3    4   Pt99.95\n",
      "4    5   Ag(T+D)\n",
      "5    6   Au(T+D)\n",
      "6    7  mAu(T+D)\n",
      "7    8  Au(T+N1)\n",
      "8    9  Au(T+N2)\n",
      "9   10   Ag99.99\n",
      "10  11  iAu99.99\n",
      "11  12    Au99.5\n",
      "12  13   iAu100g\n",
      "13  14   iAu99.5\n",
      "14  15    PGC30g\n",
      "15  16  NYAuTN06\n",
      "16  17  NYAuTN12\n"
     ]
    }
   ],
   "source": [
    "print(ak.spot_symbol_table_sge() )"
   ]
  }
 ],
 "metadata": {
  "kernelspec": {
   "display_name": "Python 3",
   "language": "python",
   "name": "python3"
  },
  "language_info": {
   "codemirror_mode": {
    "name": "ipython",
    "version": 3
   },
   "file_extension": ".py",
   "mimetype": "text/x-python",
   "name": "python",
   "nbconvert_exporter": "python",
   "pygments_lexer": "ipython3",
   "version": "3.11.6"
  }
 },
 "nbformat": 4,
 "nbformat_minor": 2
}
