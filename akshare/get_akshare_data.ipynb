{
 "cells": [
  {
   "cell_type": "code",
   "execution_count": null,
   "metadata": {},
   "outputs": [],
   "source": [
    "### 获取国债收益率\n",
    "\n",
    "import akshare as ak\n",
    "import pandas as pd\n",
    "from datetime import datetime, timedelta\n",
    "\n",
    "start_date = datetime(1990, 1, 1)\n",
    "end_date = datetime(2024, 1, 12)\n",
    "\n",
    "all_data = pd.DataFrame()\n",
    "while start_date < end_date:\n",
    "    current_end_date = min(start_date + timedelta(days=365), end_date)\n",
    "    start_str = start_date.strftime('%Y%m%d')\n",
    "    end_str = current_end_date.strftime('%Y%m%d')\n",
    "\n",
    "    temp_data = ak.bond_china_yield(start_date=start_str, end_date=end_str)\n",
    "    filtered_data = temp_data[temp_data['曲线名称'] == '中债国债收益率曲线']\n",
    "    all_data = pd.concat([all_data, filtered_data])\n",
    "    start_date = current_end_date + timedelta(days=1)\n",
    "\n",
    "all_data.to_csv(\"akshare_data/cn_treasury_bond_yield.csv\", index=False)"
   ]
  },
  {
   "cell_type": "code",
   "execution_count": null,
   "metadata": {},
   "outputs": [],
   "source": [
    "### 获取汇率数据\n",
    "\n",
    "forex_rate = ak.currency_boc_safe()\n",
    "forex_rate.to_csv(\"akshare_data/forex_rate.csv\", index=False)"
   ]
  },
  {
   "cell_type": "code",
   "execution_count": null,
   "metadata": {},
   "outputs": [],
   "source": [
    "### 获取Shibor利率\n",
    "\n",
    "shibor_on = ak.rate_interbank(market=\"上海银行同业拆借市场\", symbol=\"Shibor人民币\", indicator=\"隔夜\")\n",
    "shibor_on.to_csv(\"akshare_data/shibor_on.csv\", index=False)\n",
    "shibor_3m = ak.rate_interbank(market=\"上海银行同业拆借市场\", symbol=\"Shibor人民币\", indicator=\"3月\")\n",
    "shibor_3m.to_csv(\"akshare_data/shibor_3m.csv\", index=False)\n",
    "shibor_1y = ak.rate_interbank(market=\"上海银行同业拆借市场\", symbol=\"Shibor人民币\", indicator=\"1年\")\n",
    "shibor_1y.to_csv(\"akshare_data/shibor_1y.csv\", index=False)"
   ]
  },
  {
   "cell_type": "code",
   "execution_count": null,
   "metadata": {},
   "outputs": [],
   "source": [
    "### 获取上证指数和深圳成指\n",
    "\n",
    "# 上证指数\n",
    "index_sh = ak.stock_zh_index_daily(symbol=\"sh000001\")\n",
    "index_sh.to_csv(\"akshare_data/sh000001_d.csv\", index=False)\n",
    "\n",
    "# 深证成指\n",
    "index_sz = ak.stock_zh_index_daily(symbol=\"sz399001\")\n",
    "index_sz.to_csv(\"akshare_data/sz399001_d.csv\", index=False)"
   ]
  },
  {
   "cell_type": "code",
   "execution_count": null,
   "metadata": {},
   "outputs": [],
   "source": [
    "### 获取上交所融资融券余额\n",
    "\n",
    "sh_margin1 = ak.stock_margin_sse(start_date=\"20160101\", end_date=\"20240208\") # API输出一次最多2000条，因此拆成两块进行数据获取\n",
    "sh_margin2 = ak.stock_margin_sse(start_date=\"20100106\", end_date=\"20160101\")\n",
    "sh_margin = pd.concat([sh_margin1, sh_margin2])\n",
    "sh_margin.to_csv(\"akshare_data/sh_margin.csv\", index=False)"
   ]
  },
  {
   "cell_type": "code",
   "execution_count": null,
   "metadata": {},
   "outputs": [],
   "source": [
    "### 获取深交所融资融券余额\n",
    "\n",
    "import pandas as pd\n",
    "import akshare as ak\n",
    "from datetime import datetime\n",
    "\n",
    "# 设置开始和结束日期\n",
    "start_date = '1991-01-01'\n",
    "end_date = datetime.now().strftime('%Y-%m-%d')  # 获取当前日期\n",
    "\n",
    "# 生成日期范围\n",
    "dates = pd.date_range(start=start_date, end=end_date, freq='D')\n",
    "\n",
    "all_data = []\n",
    "for date in dates:\n",
    "    try:\n",
    "        formatted_date = date.strftime('%Y%m%d')\n",
    "        daily_data = ak.stock_margin_szse(date=formatted_date)\n",
    "\n",
    "        # 检查返回的数据是否为空\n",
    "        if not daily_data.empty:\n",
    "            # 如果数据不为空，添加日期列\n",
    "            daily_data['日期'] = date\n",
    "            all_data.append(daily_data)\n",
    "            print(formatted_date, 'done')\n",
    "        else:\n",
    "            print(formatted_date, 'no data')\n",
    "    except Exception as e:\n",
    "        print(f\"Error getting data for date {formatted_date}: {e}\")\n",
    "\n",
    "all_data_df = pd.concat(all_data)\n",
    "all_data_df.to_csv(\"akshare_data/sz_margin.csv\", index=False)"
   ]
  }
 ],
 "metadata": {
  "kernelspec": {
   "display_name": "Python 3",
   "language": "python",
   "name": "python3"
  },
  "language_info": {
   "codemirror_mode": {
    "name": "ipython",
    "version": 3
   },
   "file_extension": ".py",
   "mimetype": "text/x-python",
   "name": "python",
   "nbconvert_exporter": "python",
   "pygments_lexer": "ipython3",
   "version": "3.11.6"
  }
 },
 "nbformat": 4,
 "nbformat_minor": 2
}
