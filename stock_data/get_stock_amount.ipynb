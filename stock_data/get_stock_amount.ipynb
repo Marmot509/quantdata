{
 "cells": [
  {
   "cell_type": "markdown",
   "metadata": {},
   "source": [
    "### 合并单个股票文件中的指定列（amount）"
   ]
  },
  {
   "cell_type": "markdown",
   "metadata": {},
   "source": [
    "单线程版本"
   ]
  },
  {
   "cell_type": "code",
   "execution_count": null,
   "metadata": {},
   "outputs": [],
   "source": [
    "import pandas as pd\n",
    "import os\n",
    "from glob import glob\n",
    "\n",
    "# 设置文件夹路径\n",
    "folder_path = 'data/by_stock_merged'\n",
    "# 指定要提取的列\n",
    "column_to_extract = 'amount'\n",
    "# 输出文件名\n",
    "output_file = 'data/merged_data.parquet'\n",
    "\n",
    "# 获取所有CSV文件的路径\n",
    "csv_files = glob(os.path.join(folder_path, '*.csv'))\n",
    "\n",
    "# 初始化一个空的DataFrame用于合并\n",
    "merged_df = pd.DataFrame()\n",
    "\n",
    "# 遍历所有CSV文件\n",
    "for file in csv_files:\n",
    "    # 提取股票代码\n",
    "    stock_code = os.path.basename(file).split('.')[0]\n",
    "    # 读取CSV文件\n",
    "    df = pd.read_csv(file, usecols=['trade_time', column_to_extract])\n",
    "    # 重命名列名为股票代码\n",
    "    df = df.rename(columns={column_to_extract: stock_code})\n",
    "    # 将trade_time设置为索引\n",
    "    df['trade_time'] = pd.to_datetime(df['trade_time'])\n",
    "    df = df.set_index('trade_time')\n",
    "    # 合并数据\n",
    "    if merged_df.empty:\n",
    "        merged_df = df\n",
    "    else:\n",
    "        merged_df = pd.merge_ordered(merged_df, df, on='trade_time', how='outer')\n",
    "\n",
    "# 重置索引\n",
    "merged_df = merged_df.reset_index()\n",
    "\n",
    "# 保存为Fastparquet文件\n",
    "merged_df.to_parquet(output_file, engine='fastparquet', compression='ZSTD')\n",
    "\n",
    "print(f\"合并后的数据已保存为 {output_file}\")\n"
   ]
  },
  {
   "cell_type": "markdown",
   "metadata": {},
   "source": [
    "多线程版本"
   ]
  },
  {
   "cell_type": "code",
   "execution_count": null,
   "metadata": {},
   "outputs": [],
   "source": [
    "import pandas as pd\n",
    "import os\n",
    "from glob import glob\n",
    "from concurrent.futures import ProcessPoolExecutor, as_completed\n",
    "import multiprocessing\n",
    "from tqdm import tqdm\n",
    "\n",
    "# 设置文件夹路径\n",
    "folder_path = 'data/by_stock_merged'\n",
    "# 指定要提取的列\n",
    "column_to_extract = 'amount'\n",
    "# 中间文件存储路径\n",
    "intermediate_folder_path = 'data/intermediate'\n",
    "\n",
    "\n",
    "# 获取所有CSV文件的路径\n",
    "csv_files = glob(os.path.join(folder_path, '*.csv'))\n",
    "\n",
    "# 获取CPU核数\n",
    "num_cores = multiprocessing.cpu_count() - 1\n",
    "\n",
    "# 将文件分组\n",
    "file_groups = [csv_files[i::num_cores] for i in range(num_cores)]\n",
    "\n",
    "# 确保中间文件夹存在\n",
    "if not os.path.exists(intermediate_folder_path):\n",
    "    os.makedirs(intermediate_folder_path)\n",
    "\n",
    "def process_group(files, group_index):\n",
    "    print(f\"开始处理组 {group_index}...\\n\")\n",
    "    merged_df = pd.DataFrame()\n",
    "    for idx, file in enumerate(files):\n",
    "        # 提取股票代码\n",
    "        stock_code = os.path.basename(file).split('.')[0]\n",
    "        # 读取CSV文件\n",
    "        df = pd.read_csv(file, usecols=['trade_time', column_to_extract])\n",
    "        # 重命名列名为股票代码\n",
    "        df = df.rename(columns={column_to_extract: stock_code})\n",
    "        # 将trade_time设置为索引\n",
    "        df['trade_time'] = pd.to_datetime(df['trade_time'])\n",
    "        df = df.set_index('trade_time')\n",
    "        # 合并数据\n",
    "        if merged_df.empty:\n",
    "            merged_df = df\n",
    "        else:\n",
    "            merged_df = pd.merge_ordered(merged_df, df, on='trade_time', how='outer')\n",
    "        if group_index == 0:\n",
    "            print(f\"组 {group_index}: 已处理 {idx + 1}/{len(files)} 文件\")\n",
    "    # 保存中间文件\n",
    "    intermediate_file = os.path.join(intermediate_folder_path, f'intermediate_{group_index}.parquet')\n",
    "    merged_df.to_parquet(intermediate_file, engine='fastparquet', compression='ZSTD')\n",
    "    # 清理内存\n",
    "    del merged_df\n",
    "    print(f\"组 {group_index} 处理完成并保存为中间文件 {intermediate_file}\")\n",
    "    return intermediate_file\n",
    "\n",
    "# 使用线程池并行处理文件组\n",
    "# ~10min with 32 n2 CPU for this step\n",
    "with ProcessPoolExecutor(max_workers=num_cores) as executor:\n",
    "    future_to_group = {executor.submit(process_group, file_groups[i], i): i for i in range(num_cores)}\n",
    "    intermediate_files = [future.result() for future in as_completed(future_to_group)]\n",
    "\n",
    "# 清理文件组的内存\n",
    "del file_groups\n",
    "del csv_files\n"
   ]
  },
  {
   "cell_type": "code",
   "execution_count": 2,
   "metadata": {},
   "outputs": [
    {
     "name": "stderr",
     "output_type": "stream",
     "text": [
      "合并中间文件: 100%|██████████| 31/31 [11:01<00:00, 21.33s/it]\n"
     ]
    },
    {
     "name": "stdout",
     "output_type": "stream",
     "text": [
      "合并后的数据已保存为 data/merged_data.parquet\n",
      "中间文件已删除，内存已清理\n"
     ]
    }
   ],
   "source": [
    "# 合并所有中间文件\n",
    "# ~10mins with 32 n2 CPU for this step\n",
    "final_df = pd.DataFrame()\n",
    "output_file = f'data/merged_{column_to_extract}.parquet'\n",
    "\n",
    "for intermediate_file in tqdm(intermediate_files, desc=\"合并中间文件\"):\n",
    "    df = pd.read_parquet(intermediate_file)\n",
    "    if final_df.empty:\n",
    "        final_df = df\n",
    "    else:\n",
    "        final_df = pd.merge_ordered(final_df, df, on='trade_time', how='outer')\n",
    "    # 清理中间文件的内存\n",
    "    del df\n",
    "\n",
    "# 重置索引\n",
    "final_df = final_df.reset_index()\n",
    "\n",
    "# 保存最终合并的文件\n",
    "final_df.to_parquet(output_file, engine='fastparquet', compression='ZSTD')\n",
    "\n",
    "print(f\"合并后的数据已保存为 {output_file}\")\n",
    "\n",
    "# 清理最终数据的内存\n",
    "del final_df\n",
    "\n",
    "# 删除中间文件\n",
    "for intermediate_file in intermediate_files:\n",
    "    os.remove(intermediate_file)\n",
    "\n",
    "print(\"中间文件已删除，内存已清理\")"
   ]
  },
  {
   "cell_type": "markdown",
   "metadata": {},
   "source": [
    "### 获得停牌时间"
   ]
  },
  {
   "cell_type": "code",
   "execution_count": 1,
   "metadata": {},
   "outputs": [
    {
     "name": "stderr",
     "output_type": "stream",
     "text": [
      "Processing Files: 100%|██████████| 5100/5100 [10:13<00:00,  8.31it/s]\n"
     ]
    },
    {
     "name": "stdout",
     "output_type": "stream",
     "text": [
      "Results saved to data/all_suspend_days.pkl.zip\n"
     ]
    }
   ],
   "source": [
    "import os\n",
    "import pandas as pd\n",
    "from concurrent.futures import ProcessPoolExecutor, as_completed\n",
    "from tqdm import tqdm\n",
    "\n",
    "# 定义处理单个文件的函数\n",
    "def process_file(file_path):\n",
    "    try:\n",
    "        df = pd.read_csv(file_path)\n",
    "        # 将trade_time列转换为日期格式，并提取日期\n",
    "        df['date'] = pd.to_datetime(df['trade_time']).dt.date\n",
    "        # 按日期汇总交易额\n",
    "        daily_amount_sum = df.groupby('date')['amount'].sum()\n",
    "        # 找到总交易额为0的日期\n",
    "        suspend_days = daily_amount_sum[daily_amount_sum == 0].index.tolist()\n",
    "        return os.path.basename(file_path).split('.')[0], suspend_days\n",
    "    except Exception as e:\n",
    "        print(f\"Error processing {file_path}: {e}\")\n",
    "        return os.path.basename(file_path).split('.')[0], []\n",
    "\n",
    "files_dir = 'data/by_stock_merged/'\n",
    "files = [os.path.join(files_dir, file) for file in os.listdir(files_dir)]\n",
    "\n",
    "num_workers = max(1, os.cpu_count() - 1)\n",
    "results = []\n",
    "\n",
    "with ProcessPoolExecutor(max_workers=num_workers) as executor:\n",
    "    futures = [executor.submit(process_file, file) for file in files]\n",
    "    for future in tqdm(as_completed(futures), total=len(futures), desc=\"Processing Files\"):\n",
    "        results.append(future.result())\n",
    "\n",
    "\n",
    "results_df = pd.DataFrame(results, columns=['ticker', 'suspend_days'])\n",
    "results_df.set_index('ticker', inplace=True)\n",
    "output_path = 'data/all_suspend_days.pkl.zip'\n",
    "results_df.to_pickle(output_path, compression='zip')\n",
    "\n",
    "print(f\"Results saved to {output_path}\")\n"
   ]
  },
  {
   "cell_type": "code",
   "execution_count": 3,
   "metadata": {},
   "outputs": [
    {
     "name": "stdout",
     "output_type": "stream",
     "text": [
      "股票 000603 在 2010-01-04 停牌\n"
     ]
    }
   ],
   "source": [
    "import pandas as pd\n",
    "\n",
    "# 读取之前保存的停牌日期数据\n",
    "output_path = 'data/all_suspend_days.pkl.zip'\n",
    "results_df = pd.read_pickle(output_path, compression='zip')\n",
    "\n",
    "# 查询2010-01-04这天000603是否停牌\n",
    "ticker = '000603'\n",
    "date_to_check = pd.to_datetime('2010-01-04').date()\n",
    "\n",
    "# 获取指定股票的停牌日期列表\n",
    "suspend_days = results_df.loc[ticker, 'suspend_days']\n",
    "\n",
    "# 判断指定日期是否在停牌日期列表中\n",
    "is_suspended = date_to_check in suspend_days\n",
    "\n",
    "print(f\"股票 {ticker} 在 {date_to_check} {'停牌' if is_suspended else '未停牌'}\")\n"
   ]
  },
  {
   "cell_type": "markdown",
   "metadata": {},
   "source": [
    "### 去掉停牌数据"
   ]
  },
  {
   "cell_type": "markdown",
   "metadata": {},
   "source": [
    "读取必要数据"
   ]
  },
  {
   "cell_type": "code",
   "execution_count": 4,
   "metadata": {},
   "outputs": [
    {
     "name": "stdout",
     "output_type": "stream",
     "text": [
      "                     688610  301381  000937  603727  300901  300838  603235  \\\n",
      "trade_time                                                                    \n",
      "2000-01-04 09:31:00     NaN     NaN     0.0     NaN     NaN     NaN     NaN   \n",
      "2000-01-04 09:32:00     NaN     NaN     0.0     NaN     NaN     NaN     NaN   \n",
      "2000-01-04 09:33:00     NaN     NaN     0.0     NaN     NaN     NaN     NaN   \n",
      "2000-01-04 09:34:00     NaN     NaN     0.0     NaN     NaN     NaN     NaN   \n",
      "2000-01-04 09:35:00     NaN     NaN     0.0     NaN     NaN     NaN     NaN   \n",
      "\n",
      "                     688631  601518  601375  ...  002738  002283   000906  \\\n",
      "trade_time                                   ...                            \n",
      "2000-01-04 09:31:00     NaN     NaN     NaN  ...     NaN     NaN   7974.0   \n",
      "2000-01-04 09:32:00     NaN     NaN     NaN  ...     NaN     NaN  19995.0   \n",
      "2000-01-04 09:33:00     NaN     NaN     NaN  ...     NaN     NaN      0.0   \n",
      "2000-01-04 09:34:00     NaN     NaN     NaN  ...     NaN     NaN      0.0   \n",
      "2000-01-04 09:35:00     NaN     NaN     NaN  ...     NaN     NaN   6712.0   \n",
      "\n",
      "                     688030  002761  300875  603389  600368  300735  688720  \n",
      "trade_time                                                                   \n",
      "2000-01-04 09:31:00     NaN     NaN     NaN     NaN     NaN     NaN     NaN  \n",
      "2000-01-04 09:32:00     NaN     NaN     NaN     NaN     NaN     NaN     NaN  \n",
      "2000-01-04 09:33:00     NaN     NaN     NaN     NaN     NaN     NaN     NaN  \n",
      "2000-01-04 09:34:00     NaN     NaN     NaN     NaN     NaN     NaN     NaN  \n",
      "2000-01-04 09:35:00     NaN     NaN     NaN     NaN     NaN     NaN     NaN  \n",
      "\n",
      "[5 rows x 5100 columns]\n",
      "                                             suspend_days\n",
      "ticker                                                   \n",
      "688610                                                 []\n",
      "688115                                                 []\n",
      "301118                                                 []\n",
      "301133                                                 []\n",
      "301055                                                 []\n",
      "301168                                                 []\n",
      "688125                                                 []\n",
      "300958                                                 []\n",
      "688329                                                 []\n",
      "300967                                                 []\n",
      "688159                                                 []\n",
      "601696                                                 []\n",
      "605500                                                 []\n",
      "300982                                                 []\n",
      "605369                                                 []\n",
      "688027                                                 []\n",
      "300852                                                 []\n",
      "603255                                                 []\n",
      "688122                                                 []\n",
      "300904                                                 []\n",
      "001289                                                 []\n",
      "301377                                                 []\n",
      "605081                                                 []\n",
      "603660                           [2017-12-18, 2017-12-19]\n",
      "300997                                                 []\n",
      "300885                                                 []\n",
      "301381                                                 []\n",
      "603728                                                 []\n",
      "300633                                                 []\n",
      "603028  [2018-01-16, 2018-01-17, 2018-01-18, 2018-01-1...\n",
      "300547                                                 []\n",
      "688231                                                 []\n",
      "601658                                                 []\n",
      "301170                                                 []\n",
      "603218                                                 []\n",
      "603030  [2015-07-08, 2015-07-09, 2015-07-10, 2015-12-2...\n",
      "603599  [2016-08-25, 2016-08-26, 2016-08-29, 2016-08-3...\n",
      "603256                                                 []\n",
      "688319                                                 []\n",
      "688293                                                 []\n"
     ]
    }
   ],
   "source": [
    "import pandas as pd\n",
    "import numpy as np\n",
    "from tqdm import tqdm\n",
    "\n",
    "stock_data_df = pd.read_parquet('data/merged_amount.parquet')\n",
    "stock_data_df.set_index('trade_time', inplace=True)\n",
    "stock_data_df = stock_data_df.drop(columns=['index'])\n",
    "print(stock_data_df.head())\n",
    "\n",
    "suspend_df = pd.read_pickle('data/all_suspend_days.pkl.zip', compression='zip')\n",
    "print(suspend_df.head(40))"
   ]
  },
  {
   "cell_type": "markdown",
   "metadata": {},
   "source": [
    "去掉停牌数据（单线程）"
   ]
  },
  {
   "cell_type": "code",
   "execution_count": 5,
   "metadata": {},
   "outputs": [
    {
     "name": "stderr",
     "output_type": "stream",
     "text": [
      "Updating stock data: 100%|██████████| 5100/5100 [45:35<00:00,  1.86it/s]  \n"
     ]
    }
   ],
   "source": [
    "stock_data_df.index = pd.to_datetime(stock_data_df.index)\n",
    "\n",
    "# 遍历所有股票和对应的停牌日期\n",
    "for ticker, suspend_dates in tqdm(suspend_df['suspend_days'].items(), total=suspend_df.shape[0], desc=\"Updating stock data\"):\n",
    "    ticker = str(ticker)  # 确保ticker格式为字符串，以匹配列名\n",
    "    if suspend_dates:  # 如果有停牌日期\n",
    "        for suspend_date in suspend_dates:  # 这里suspend_date是datetime.date类型\n",
    "            # 创建当天的时间范围\n",
    "            start_datetime = pd.Timestamp(suspend_date)\n",
    "            end_datetime = start_datetime + pd.Timedelta(days=1)\n",
    "            # 设置对应日期的收益率为NaN\n",
    "            if ticker in stock_data_df.columns:\n",
    "                # 查找这个日期范围内的所有时间点，并将它们设置为NaN\n",
    "                stock_data_df.loc[(stock_data_df.index >= start_datetime) & (stock_data_df.index < end_datetime), ticker] = np.nan\n",
    "\n",
    "# ~47mins on c2"
   ]
  },
  {
   "cell_type": "markdown",
   "metadata": {},
   "source": [
    "sanity check"
   ]
  },
  {
   "cell_type": "code",
   "execution_count": 6,
   "metadata": {},
   "outputs": [
    {
     "name": "stdout",
     "output_type": "stream",
     "text": [
      "nan\n"
     ]
    }
   ],
   "source": [
    "ticker = '000603'\n",
    "\n",
    "print(stock_data_df.loc['2010-01-04 09:31:00', ticker]) # should be NaN"
   ]
  },
  {
   "cell_type": "code",
   "execution_count": 7,
   "metadata": {},
   "outputs": [
    {
     "data": {
      "text/plain": [
       "Text(0.5, 1.0, 'Stock 000603 Amount')"
      ]
     },
     "execution_count": 7,
     "metadata": {},
     "output_type": "execute_result"
    },
    {
     "data": {
      "image/png": "[encoded data removed]",
      "text/plain": [
       "<Figure size 1200x600 with 1 Axes>"
      ]
     },
     "metadata": {},
     "output_type": "display_data"
    },
    {
     "data": {
      "image/png": "[encoded data removed]",
      "text/plain": [
       "<Figure size 1200x600 with 1 Axes>"
      ]
     },
     "metadata": {},
     "output_type": "display_data"
    }
   ],
   "source": [
    "from matplotlib import pyplot as plt\n",
    "\n",
    "# plot stock_data_df['000603']\n",
    "plt.figure(figsize=(12, 6))\n",
    "plt.plot(stock_data_df.index, stock_data_df[ticker])\n",
    "plt.title(f'Stock {ticker} Amount')\n",
    "\n",
    "stock_df = pd.read_csv(f'data/by_stock_merged/{ticker}.csv', usecols=['trade_time', 'amount'])\n",
    "stock_df['trade_time'] = pd.to_datetime(stock_df['trade_time'])\n",
    "stock_df = stock_df.set_index('trade_time')\n",
    "\n",
    "# plot stock_df['amount']\n",
    "plt.figure(figsize=(12, 6))\n",
    "plt.plot(stock_df.index, stock_df['amount'])\n",
    "plt.title(f'Stock {ticker} Amount')"
   ]
  },
  {
   "cell_type": "code",
   "execution_count": 8,
   "metadata": {},
   "outputs": [],
   "source": [
    "output_path = 'data/stock_amounts_1m_all.parquet'\n",
    "stock_data_df.to_parquet(output_path, engine='fastparquet', compression='ZSTD')"
   ]
  }
 ],
 "metadata": {
  "kernelspec": {
   "display_name": "Python 3",
   "language": "python",
   "name": "python3"
  },
  "language_info": {
   "codemirror_mode": {
    "name": "ipython",
    "version": 3
   },
   "file_extension": ".py",
   "mimetype": "text/x-python",
   "name": "python",
   "nbconvert_exporter": "python",
   "pygments_lexer": "ipython3",
   "version": "3.8.10"
  }
 },
 "nbformat": 4,
 "nbformat_minor": 2
}
