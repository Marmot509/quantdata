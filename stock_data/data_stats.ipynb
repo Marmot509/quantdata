{
 "cells": [
  {
   "cell_type": "markdown",
   "metadata": {},
   "source": [
    "### 统计收盘价和交易额是0的比例"
   ]
  },
  {
   "cell_type": "code",
   "execution_count": 3,
   "metadata": {},
   "outputs": [
    {
     "name": "stderr",
     "output_type": "stream",
     "text": [
      "  0%|          | 0/5100 [00:00<?, ?it/s]"
     ]
    },
    {
     "name": "stderr",
     "output_type": "stream",
     "text": [
      "  2%|▏         | 90/5100 [00:11<06:01, 13.87it/s] "
     ]
    }
   ],
   "source": [
    "import os\n",
    "import pandas as pd\n",
    "from multiprocessing import Pool, cpu_count\n",
    "from tqdm import tqdm\n",
    "\n",
    "# Function to process a single CSV file\n",
    "def process_file(file_path):\n",
    "    # Read the CSV file into a DataFrame\n",
    "    df = pd.read_csv(file_path)\n",
    "    \n",
    "    # Convert trade_time to datetime and extract the year\n",
    "    df['year'] = pd.to_datetime(df['trade_time']).dt.year\n",
    "    \n",
    "    # Calculate the proportion of zeros for each column, by year\n",
    "    zero_proportion_by_year = df.groupby('year').apply(lambda x: (x == 0).sum() / len(x))\n",
    "    \n",
    "    # Return the result\n",
    "    return zero_proportion_by_year\n",
    "\n",
    "# List all CSV files in the directory\n",
    "directory = 'data/by_stock_merged'\n",
    "csv_files = [os.path.join(directory, f) for f in os.listdir(directory) if f.endswith('.csv')]\n",
    "\n",
    "# Use all CPUs but one\n",
    "available_cpus = max(1, cpu_count() - 5)\n",
    "\n",
    "# Create a multiprocessing Pool\n",
    "with Pool(processes=available_cpus) as pool:\n",
    "    # Use tqdm to create the progress bar\n",
    "    results = list(tqdm(pool.imap(process_file, csv_files), total=len(csv_files)))\n",
    "\n",
    "# Combine the results from each file into a single DataFrame\n",
    "final_result = pd.concat(results)\n",
    "\n",
    "# You can then save this final result to a CSV or perform further analysis\n",
    "final_result.to_csv('data/stats/zero_ratio_result.csv')\n"
   ]
  }
 ],
 "metadata": {
  "kernelspec": {
   "display_name": "Python 3",
   "language": "python",
   "name": "python3"
  },
  "language_info": {
   "codemirror_mode": {
    "name": "ipython",
    "version": 3
   },
   "file_extension": ".py",
   "mimetype": "text/x-python",
   "name": "python",
   "nbconvert_exporter": "python",
   "pygments_lexer": "ipython3",
   "version": "3.8.10"
  }
 },
 "nbformat": 4,
 "nbformat_minor": 2
}
