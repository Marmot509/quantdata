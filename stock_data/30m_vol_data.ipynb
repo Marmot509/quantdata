{
 "cells": [
  {
   "cell_type": "markdown",
   "metadata": {},
   "source": [
    "### 计算每个股票的30min总成交额"
   ]
  },
  {
   "cell_type": "code",
   "execution_count": 1,
   "metadata": {},
   "outputs": [
    {
     "name": "stderr",
     "output_type": "stream",
     "text": [
      " 28%|██▊       | 1427/5100 [1:58:24<7:40:53,  7.53s/it] "
     ]
    }
   ],
   "source": [
    "import pandas as pd\n",
    "import os\n",
    "import threading\n",
    "from tqdm import tqdm\n",
    "from concurrent.futures import ThreadPoolExecutor,as_completed\n",
    "\n",
    "def process_stock_data(file_name, input_folder, output_folder):\n",
    "    # 检查输出文件是否已存在\n",
    "    output_file_path = os.path.join(output_folder, file_name)\n",
    "    if os.path.exists(output_file_path):\n",
    "        return\n",
    "    \n",
    "    # 读取数据\n",
    "    df = pd.read_csv(os.path.join(input_folder, file_name))\n",
    "    \n",
    "    # 按30行分组并处理数据\n",
    "    result = []\n",
    "    for i in range(0, len(df), 30):\n",
    "        batch = df.iloc[i:i+30]\n",
    "        if not batch.empty:\n",
    "            total_amount = batch['amount'].sum()\n",
    "            timestamp = batch.iloc[-1]['trade_time']\n",
    "            result.append([timestamp, total_amount])\n",
    "    \n",
    "    # 保存到新的DataFrame中\n",
    "    processed_df = pd.DataFrame(result, columns=['trade_time', 'total_amount'])\n",
    "    \n",
    "    # 写入到新文件中\n",
    "    processed_df.to_csv(os.path.join(output_folder, file_name), index=False)\n",
    "\n",
    "def main(input_folder, output_folder):\n",
    "    files = os.listdir(input_folder)\n",
    "\n",
    "    # 确保输出文件夹存在\n",
    "    if not os.path.exists(output_folder):\n",
    "        os.makedirs(output_folder)\n",
    "\n",
    "    # 使用线程池执行任务\n",
    "    with ThreadPoolExecutor(max_workers=os.cpu_count() - 5) as executor:\n",
    "        futures = [executor.submit(process_stock_data, file, input_folder, output_folder) for file in files]\n",
    "        \n",
    "        # 使用tqdm显示进度条\n",
    "        for future in tqdm(as_completed(futures), total=len(files)):\n",
    "            future.result()\n",
    "\n",
    "if __name__ == \"__main__\":\n",
    "    input_folder = 'data/by_stock_merged'  # 修改为您的输入文件夹路径\n",
    "    output_folder = 'data/v30/by_stock_v30'  # 修改为您的输出文件夹路径\n",
    "    main(input_folder, output_folder)\n"
   ]
  }
 ],
 "metadata": {
  "kernelspec": {
   "display_name": "Python 3",
   "language": "python",
   "name": "python3"
  },
  "language_info": {
   "codemirror_mode": {
    "name": "ipython",
    "version": 3
   },
   "file_extension": ".py",
   "mimetype": "text/x-python",
   "name": "python",
   "nbconvert_exporter": "python",
   "pygments_lexer": "ipython3",
   "version": "3.8.10"
  }
 },
 "nbformat": 4,
 "nbformat_minor": 2
}
