{
 "cells": [
  {
   "cell_type": "markdown",
   "metadata": {},
   "source": [
    "## 各种工具"
   ]
  },
  {
   "cell_type": "markdown",
   "metadata": {},
   "source": [
    "### 处理带有前缀的ticker数据"
   ]
  },
  {
   "cell_type": "code",
   "execution_count": 1,
   "metadata": {},
   "outputs": [],
   "source": [
    "import pandas as pd\n",
    "import json\n",
    "\n",
    "# 读取股票代码列表\n",
    "with open('data/tickers.json', 'r') as f:\n",
    "    tickers = json.load(f)\n",
    "# 去掉前缀\n",
    "tickers = [ticker[2:] for ticker in tickers]\n",
    "# 保存tickers数据\n",
    "with open('data/tickers.json', 'w') as f:\n",
    "    json.dump(tickers, f, indent=4)"
   ]
  },
  {
   "cell_type": "markdown",
   "metadata": {},
   "source": [
    "### 截取最终pkl数据的一段"
   ]
  },
  {
   "cell_type": "code",
   "execution_count": 1,
   "metadata": {},
   "outputs": [],
   "source": [
    "import pandas as pd\n",
    "\n",
    "# load pkl file from data/stock_returns_1m_all.pkl\n",
    "df = pd.read_pickle('data/stock_returns_1m_all.pkl')\n",
    "print(\"file loaded\")\n",
    "\n",
    "# 截取2021年1月1日之后的数据\n",
    "df = df[df.index >= '2021-01-01']\n",
    "\n",
    "# 保存数据\n",
    "df.to_pickle('data/stock_returns_1m_2021.pkl.gz', compression='gz')\n",
    "print(\"file saved\")\n"
   ]
  }
 ],
 "metadata": {
  "kernelspec": {
   "display_name": "Python 3",
   "language": "python",
   "name": "python3"
  },
  "language_info": {
   "codemirror_mode": {
    "name": "ipython",
    "version": 3
   },
   "file_extension": ".py",
   "mimetype": "text/x-python",
   "name": "python",
   "nbconvert_exporter": "python",
   "pygments_lexer": "ipython3",
   "version": "3.8.10"
  }
 },
 "nbformat": 4,
 "nbformat_minor": 2
}
