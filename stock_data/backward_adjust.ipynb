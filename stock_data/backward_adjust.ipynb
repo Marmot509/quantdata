{
 "cells": [
  {
   "cell_type": "code",
   "execution_count": 1,
   "metadata": {},
   "outputs": [],
   "source": [
    "import pandas as pd\n",
    "# Reading the large CSV file with specified columns\n",
    "file_path = 'merged_data.csv'\n",
    "cols_to_read = ['trade_time', '000561', '600712']\n",
    "data = pd.read_csv(file_path, usecols=cols_to_read)\n",
    "\n",
    "# Writing the specified columns to a new CSV file\n",
    "new_file_path = 'merged_test.csv'\n",
    "data.to_csv(new_file_path, index=False)\n"
   ]
  },
  {
   "cell_type": "code",
   "execution_count": 5,
   "metadata": {},
   "outputs": [],
   "source": [
    "\n",
    "\n",
    "# 假设股票价格数据的文件路径\n",
    "stock_prices_path = 'merged_test.csv'\n",
    "# 假设后复权因子文件夹的路径\n",
    "adjust_factor_path = 'backward_adjust_factor/'\n",
    "\n",
    "# 加载股票价格数据\n",
    "stock_prices = pd.read_csv(stock_prices_path)\n",
    "\n",
    "# 将交易时间转换为pandas的datetime格式\n",
    "stock_prices['trade_time'] = pd.to_datetime(stock_prices['trade_time'])\n",
    "\n",
    "# 创建一个空的DataFrame来存储后复权价格\n",
    "adjusted_prices = pd.DataFrame()\n",
    "adjusted_prices['trade_time'] = stock_prices['trade_time']\n",
    "\n",
    "# 对于每个股票代码，执行以下操作\n",
    "for stock_code in stock_prices.columns[1:]:  # 跳过交易时间列\n",
    "    # 尝试加载后复权因子文件，如果以'sh'开头的没有找到，尝试以'sz'开头\n",
    "    try:\n",
    "        hfq_factor_file = f'{adjust_factor_path}sh{stock_code}.csv'\n",
    "        hfq_factors = pd.read_csv(hfq_factor_file)\n",
    "    except FileNotFoundError:\n",
    "        hfq_factor_file = f'{adjust_factor_path}sz{stock_code}.csv'\n",
    "        hfq_factors = pd.read_csv(hfq_factor_file)\n",
    "    \n",
    "    # 将日期转换为datetime格式，并按日期排序\n",
    "    hfq_factors['date'] = pd.to_datetime(hfq_factors['date'])\n",
    "    hfq_factors.sort_values('date', inplace=True)\n",
    "    \n",
    "    # 设置索引为日期，便于后续查找\n",
    "    hfq_factors.set_index('date', inplace=True)\n",
    "    \n",
    "    # 计算后复权价格\n",
    "    adjusted_prices[stock_code] = stock_prices.apply(\n",
    "        lambda row: row[stock_code] * hfq_factors.loc[:row['trade_time']].iloc[-1]['hfq_factor'],\n",
    "        axis=1\n",
    "    )\n",
    "\n",
    "adjusted_prices.set_index('trade_time', inplace=True)\n",
    "\n",
    "# 将后复权价格DataFrame保存为CSV文件\n",
    "adjusted_prices.to_csv('stock_prices_hfq.csv', index=True)\n",
    "\n",
    "# 计算收益率\n",
    "returns = adjusted_prices.pct_change()\n",
    "\n",
    "# 移除收益率DataFrame中的第一行，因为它将会是NaN（第一个点没有前一个点来计算收益率）\n",
    "returns = returns.iloc[1:]\n",
    "\n",
    "# 将收益率DataFrame保存为CSV文件\n",
    "returns.to_csv('stock_returns.csv', index=True)\n",
    "\n",
    "# 将收益率DataFrame保存为序列化的二进制文件（Pickle格式）\n",
    "returns.to_pickle('stock_returns.pkl')\n"
   ]
  }
 ],
 "metadata": {
  "kernelspec": {
   "display_name": "Python 3",
   "language": "python",
   "name": "python3"
  },
  "language_info": {
   "codemirror_mode": {
    "name": "ipython",
    "version": 3
   },
   "file_extension": ".py",
   "mimetype": "text/x-python",
   "name": "python",
   "nbconvert_exporter": "python",
   "pygments_lexer": "ipython3",
   "version": "3.11.6"
  }
 },
 "nbformat": 4,
 "nbformat_minor": 2
}
